{
 "cells": [
  {
   "cell_type": "markdown",
   "id": "20604f22",
   "metadata": {},
   "source": [
    "# Preprocessing IEA Electricity Statistics Data"
   ]
  },
  {
   "cell_type": "code",
   "execution_count": null,
   "id": "0b6e1719",
   "metadata": {},
   "outputs": [],
   "source": [
    "\n",
    "# Import necessary libraries\n",
    "import pandas as pd\n",
    "import matplotlib.pyplot as plt\n",
    "import seaborn as sns\n",
    "    "
   ]
  },
  {
   "cell_type": "markdown",
   "id": "7548a825",
   "metadata": {},
   "source": [
    "## Load the Dataset"
   ]
  },
  {
   "cell_type": "code",
   "execution_count": null,
   "id": "e192671c",
   "metadata": {},
   "outputs": [],
   "source": [
    "\n",
    "# Load the dataset\n",
    "file_path = \"MES_0824.csv\"  # Update with your file path\n",
    "data = pd.read_csv(file_path, encoding='latin1', skiprows=7)\n",
    "    "
   ]
  },
  {
   "cell_type": "markdown",
   "id": "61f6dc65",
   "metadata": {},
   "source": [
    "## Clean and Structure Data"
   ]
  },
  {
   "cell_type": "code",
   "execution_count": null,
   "id": "b43c081f",
   "metadata": {},
   "outputs": [],
   "source": [
    "\n",
    "# Assign proper column names\n",
    "data.columns = data.iloc[0]  # Use the first row as headers\n",
    "data = data[1:]  # Remove the first row\n",
    "data.columns = [\"Country\", \"Time\", \"Balance\", \"Product\", \"Value\", \"Unit\"]\n",
    "    "
   ]
  },
  {
   "cell_type": "markdown",
   "id": "fa12cfe1",
   "metadata": {},
   "source": [
    "## Convert Data Types"
   ]
  },
  {
   "cell_type": "code",
   "execution_count": null,
   "id": "0f183de2",
   "metadata": {},
   "outputs": [],
   "source": [
    "\n",
    "# Convert 'Value' column to numeric\n",
    "data[\"Value\"] = pd.to_numeric(data[\"Value\"], errors=\"coerce\")\n",
    "\n",
    "# Drop rows with NaN in 'Value'\n",
    "data = data.dropna(subset=[\"Value\"])\n",
    "    "
   ]
  },
  {
   "cell_type": "markdown",
   "id": "fb9265b9",
   "metadata": {},
   "source": [
    "## Extract Relevant Data"
   ]
  },
  {
   "cell_type": "code",
   "execution_count": null,
   "id": "760478b1",
   "metadata": {},
   "outputs": [],
   "source": [
    "\n",
    "# Extract data for \"Net Electricity Production\" only\n",
    "net_electricity = data[data[\"Balance\"] == \"Net Electricity Production\"]\n",
    "    "
   ]
  },
  {
   "cell_type": "markdown",
   "id": "62ddab12",
   "metadata": {},
   "source": [
    "## Aggregate Data by Country and Product"
   ]
  },
  {
   "cell_type": "code",
   "execution_count": null,
   "id": "1c47e3fe",
   "metadata": {},
   "outputs": [],
   "source": [
    "\n",
    "country_product_summary = net_electricity.groupby([\"Country\", \"Product\"]).agg(\n",
    "    {\"Value\": \"sum\"}\n",
    ").reset_index()\n",
    "    "
   ]
  },
  {
   "cell_type": "markdown",
   "id": "7c8b1fb8",
   "metadata": {},
   "source": [
    "## Plot Trends"
   ]
  },
  {
   "cell_type": "code",
   "execution_count": null,
   "id": "4abaae54",
   "metadata": {},
   "outputs": [],
   "source": [
    "\n",
    "plt.figure(figsize=(12, 8))\n",
    "sns.barplot(data=country_product_summary, x=\"Country\", y=\"Value\", hue=\"Product\")\n",
    "plt.xticks(rotation=45)\n",
    "plt.title(\"Net Electricity Production by Country and Product\")\n",
    "plt.xlabel(\"Country\")\n",
    "plt.ylabel(\"Electricity Production (GWh)\")\n",
    "plt.legend(title=\"Product\")\n",
    "plt.tight_layout()\n",
    "plt.show()\n",
    "    "
   ]
  },
  {
   "cell_type": "markdown",
   "id": "cb54976a",
   "metadata": {},
   "source": [
    "## Save Preprocessed Data"
   ]
  },
  {
   "cell_type": "code",
   "execution_count": null,
   "id": "9a1df7e3",
   "metadata": {},
   "outputs": [],
   "source": [
    "\n",
    "output_path = \"preprocessed_iea_data.csv\"\n",
    "data.to_csv(output_path, index=False)\n",
    "\n",
    "print(f\"Preprocessed data saved to {output_path}\")\n",
    "    "
   ]
  }
 ],
 "metadata": {},
 "nbformat": 4,
 "nbformat_minor": 5
}
